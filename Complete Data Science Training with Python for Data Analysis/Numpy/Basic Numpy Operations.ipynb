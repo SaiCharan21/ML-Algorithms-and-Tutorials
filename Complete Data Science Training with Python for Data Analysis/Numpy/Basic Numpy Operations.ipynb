{
 "cells": [
  {
   "cell_type": "code",
   "execution_count": 2,
   "metadata": {},
   "outputs": [],
   "source": [
    "import numpy as np"
   ]
  },
  {
   "cell_type": "code",
   "execution_count": 5,
   "metadata": {},
   "outputs": [
    {
     "name": "stdout",
     "output_type": "stream",
     "text": [
      "<class 'numpy.ndarray'>\n"
     ]
    }
   ],
   "source": [
    "a= [1,2,2,2,2,2,2]\n",
    "na = np.array(a)\n",
    "print(type(na))"
   ]
  },
  {
   "cell_type": "code",
   "execution_count": 7,
   "metadata": {
    "scrolled": true
   },
   "outputs": [
    {
     "name": "stdout",
     "output_type": "stream",
     "text": [
      "(7,)\n"
     ]
    }
   ],
   "source": [
    "print(na.shape)"
   ]
  },
  {
   "cell_type": "code",
   "execution_count": 9,
   "metadata": {
    "scrolled": true
   },
   "outputs": [
    {
     "name": "stdout",
     "output_type": "stream",
     "text": [
      "[5 4 4 4 4 4 5 4 4 4 4 4]\n"
     ]
    }
   ],
   "source": [
    "#concatenate two numpy arrays\n",
    "\n",
    "x = np.array([5,4,4,4,4,4])\n",
    "y = np.array([5,4,4,4,4,4])\n",
    "\n",
    "npc = np.concatenate([x,y])\n",
    "print(npc)"
   ]
  },
  {
   "cell_type": "markdown",
   "metadata": {},
   "source": [
    "## Multi-dimensional Array Operations"
   ]
  },
  {
   "cell_type": "code",
   "execution_count": 11,
   "metadata": {},
   "outputs": [
    {
     "name": "stdout",
     "output_type": "stream",
     "text": [
      "[[1 2 4 4]\n",
      " [1 2 4 4]\n",
      " [1 2 4 4]]\n"
     ]
    }
   ],
   "source": [
    "arr = [[1,2,4,4],[1,2,4,4],[1,2,4,4]]\n",
    "nparr= np.array(arr) #converts array into numpy array\n",
    "print(nparr)"
   ]
  },
  {
   "cell_type": "code",
   "execution_count": 14,
   "metadata": {},
   "outputs": [
    {
     "name": "stdout",
     "output_type": "stream",
     "text": [
      "2\n"
     ]
    }
   ],
   "source": [
    "print(nparr[0,1]) "
   ]
  },
  {
   "cell_type": "code",
   "execution_count": 16,
   "metadata": {},
   "outputs": [
    {
     "name": "stdout",
     "output_type": "stream",
     "text": [
      "[1 2 4 4]\n"
     ]
    }
   ],
   "source": [
    "print(nparr[2])"
   ]
  },
  {
   "cell_type": "code",
   "execution_count": 22,
   "metadata": {},
   "outputs": [
    {
     "name": "stdout",
     "output_type": "stream",
     "text": [
      "[[ 1  2  4  4]\n",
      " [ 1  2  4  4]\n",
      " [14  2  4  4]]\n"
     ]
    }
   ],
   "source": [
    "nparr[2,0]=14\n",
    "print(nparr) "
   ]
  }
 ],
 "metadata": {
  "kernelspec": {
   "display_name": "Python 3",
   "language": "python",
   "name": "python3"
  },
  "language_info": {
   "codemirror_mode": {
    "name": "ipython",
    "version": 3
   },
   "file_extension": ".py",
   "mimetype": "text/x-python",
   "name": "python",
   "nbconvert_exporter": "python",
   "pygments_lexer": "ipython3",
   "version": "3.7.6"
  }
 },
 "nbformat": 4,
 "nbformat_minor": 4
}
